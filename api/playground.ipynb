{
 "cells": [
  {
   "cell_type": "code",
   "execution_count": 1,
   "metadata": {},
   "outputs": [
    {
     "name": "stdout",
     "output_type": "stream",
     "text": []
    }
   ],
   "source": [
    "# 线程池测试\n",
    "\n",
    "from workflow.threading_pool import ThreadPool\n",
    "import time\n",
    "\n",
    "def example_task(x):\n",
    "    time.sleep(2)  # 模拟耗时操作\n",
    "    return x * x\n",
    "\n",
    "# 初始化线程池\n",
    "pool = ThreadPool(max_workers=4)\n",
    "\n",
    "# 提交任务\n",
    "futures = [pool.submit(example_task, i) for i in range(10)]\n",
    "\n",
    "# 获取结果\n",
    "for i, future in enumerate(futures):\n",
    "    print(f\"Task {i} result: {future.result()}\")\n",
    "\n",
    "# 关闭线程池\n",
    "pool.shutdown()"
   ]
  },
  {
   "cell_type": "code",
   "execution_count": 1,
   "metadata": {},
   "outputs": [
    {
     "name": "stdout",
     "output_type": "stream",
     "text": [
      "Hello\n"
     ]
    }
   ],
   "source": [
    "# 变量池测试\n",
    "\n",
    "from workflow.graph_engine.entities.variable_pool import VariablePool\n",
    "from workflow.graph_engine.entities.variable import Variable\n",
    "\n",
    "vp = VariablePool()\n",
    "vp.add([\"开始\", \"query\"], Variable(name=\"query\", value=\"Hello\", selector=[\"开始\", \"query\"]))\n",
    "\n",
    "print(vp.get([\"开始\", \"query\"]).value)"
   ]
  },
  {
   "cell_type": "code",
   "execution_count": 1,
   "metadata": {},
   "outputs": [
    {
     "name": "stdout",
     "output_type": "stream",
     "text": [
      "0->[]\n",
      "Node 0 is running...\n",
      "Node 0 finished in 1.0012121200561523 seconds.\n",
      "1->[True]\n",
      "2->[True]\n",
      "Node 1 is running...\n",
      "Node 2 is running...\n"
     ]
    },
    {
     "name": "stdout",
     "output_type": "stream",
     "text": [
      "Hello 👋! I'm here to help you with any questions or tasks you have. How can I assist you today?\n",
      "Node 2 finished in 2.1314477920532227 seconds.\n",
      "4->[True, False]\n",
      "Hello, I am ChatGLM, a language model jointly trained by KEG Lab of Tsinghua University and Zhipu.AI Company. My job is to provide appropriate answers and support to users' questions and requests.\n",
      "Node 1 finished in 2.5852205753326416 seconds.\n",
      "3->[True]\n",
      "Node 3 is running...\n",
      "I'm fine, thank you! How can I assist you today?\n",
      "Node 3 finished in 2.1023967266082764 seconds.\n",
      "4->[True, True]\n",
      "Node 4 is running...\n",
      "Node 4 finished in 1.000960350036621 seconds.\n"
     ]
    }
   ],
   "source": [
    "from workflow.graph_engine.entities.workflow_graph import WorkflowGraph\n",
    "from workflow.nodes.node_mapping import NodeType\n",
    "from workflow.graph_engine.graph_engine import WorkflowRunner\n",
    "from workflow.graph_engine.entities.variable_pool import VariablePool\n",
    "from workflow.graph_engine.entities.variable import Variable\n",
    "from concurrent.futures import ThreadPoolExecutor\n",
    "\n",
    "graph = WorkflowGraph([])\n",
    "graph.add_node(\"0\", NodeType.START, {})\n",
    "graph.add_node(\"1\", NodeType.LLM, {})\n",
    "graph.add_node(\"2\", NodeType.LLM, {})\n",
    "graph.add_node(\"3\", NodeType.LLM, {})\n",
    "graph.add_node(\"4\", NodeType.END, {})\n",
    "graph.add_edge(\"0\", \"1\")\n",
    "graph.add_edge(\"0\", \"2\")\n",
    "graph.add_edge(\"1\", \"3\")\n",
    "graph.add_edge(\"2\", \"4\")\n",
    "graph.add_edge(\"3\", \"4\")\n",
    "\n",
    "engine = WorkflowRunner(graph, ThreadPoolExecutor(max_workers=4))\n",
    "\n",
    "engine.variable_pool.add([\"1\", \"prompt\"], Variable(name=\"prompt\", value=\"Hello, who are you\", selector=[\"1\", \"prompt\"]))\n",
    "engine.variable_pool.add([\"2\", \"prompt\"], Variable(name=\"prompt\", value=\"Hello there\", selector=[\"2\", \"prompt\"]))\n",
    "engine.variable_pool.add([\"3\", \"prompt\"], Variable(name=\"prompt\", value=\"How are you\", selector=[\"2\", \"prompt\"]))\n",
    "engine.run(\"0\")\n"
   ]
  },
  {
   "cell_type": "code",
   "execution_count": 2,
   "metadata": {},
   "outputs": [
    {
     "data": {
      "text/plain": [
       "{'0': <NodeRunStatus.SUCCEEDED: 'SUCCEEDED'>}"
      ]
     },
     "execution_count": 2,
     "metadata": {},
     "output_type": "execute_result"
    }
   ],
   "source": [
    "engine.node_states"
   ]
  },
  {
   "cell_type": "code",
   "execution_count": 5,
   "metadata": {},
   "outputs": [
    {
     "name": "stdout",
     "output_type": "stream",
     "text": [
      "Hello! I am ChatGLM, an artificial intelligence assistant based on the GLM model, which is jointly trained by Knowledge Engineering Group, Tsinghua University and Zhipu.AI Company. My job is to provide appropriate answers and support to users' questions and requests.\n"
     ]
    }
   ],
   "source": [
    "print(engine.variable_pool.get([\"1\", \"output\"]))"
   ]
  },
  {
   "cell_type": "code",
   "execution_count": 1,
   "metadata": {},
   "outputs": [
    {
     "name": "stdout",
     "output_type": "stream",
     "text": [
      "[Producer] Generated: Event(type=EventA, data={'count': 0})\n",
      "[Consumer] Processing: Event(type=EventA, data={'count': 0})\n",
      "Handled Event A with data: {'count': 0}\n",
      "[Producer] Generated: Event(type=EventB, data={'count': 1})\n",
      "[Consumer] Processing: Event(type=EventB, data={'count': 1})\n",
      "Handled Event B with data: {'count': 1}\n",
      "[Producer] Generated: Event(type=EventA, data={'count': 2})\n",
      "[Consumer] Processing: Event(type=EventA, data={'count': 2})\n",
      "Handled Event A with data: {'count': 2}\n",
      "[Producer] Generated: Event(type=EventB, data={'count': 3})\n",
      "[Consumer] Processing: Event(type=EventB, data={'count': 3})\n",
      "Handled Event B with data: {'count': 3}\n",
      "[Producer] Generated: Event(type=EventA, data={'count': 4})\n",
      "[Consumer] Processing: Event(type=EventA, data={'count': 4})\n",
      "Handled Event A with data: {'count': 4}\n",
      "[Producer] Generated: Event(type=EventB, data={'count': 5})\n",
      "[Consumer] Processing: Event(type=EventB, data={'count': 5})\n",
      "Handled Event B with data: {'count': 5}\n",
      "[Producer] Generated: Event(type=EventA, data={'count': 6})\n",
      "[Consumer] Processing: Event(type=EventA, data={'count': 6})\n",
      "Handled Event A with data: {'count': 6}\n",
      "[Producer] Generated: Event(type=EventB, data={'count': 7})\n",
      "[Consumer] Processing: Event(type=EventB, data={'count': 7})\n",
      "Handled Event B with data: {'count': 7}\n",
      "[Producer] Generated: Event(type=EventA, data={'count': 8})\n",
      "[Consumer] Processing: Event(type=EventA, data={'count': 8})\n",
      "Handled Event A with data: {'count': 8}\n",
      "[Producer] Generated: Event(type=EventB, data={'count': 9})\n",
      "[Consumer] Processing: Event(type=EventB, data={'count': 9})\n",
      "Handled Event B with data: {'count': 9}\n",
      "Main thread exiting...\n"
     ]
    }
   ],
   "source": [
    "# 事件队列测试\n",
    "\n",
    "import threading\n",
    "import queue\n",
    "import time\n",
    "from typing import Any, Callable\n",
    "\n",
    "\n",
    "# 1. 事件定义\n",
    "class Event:\n",
    "    \"\"\"基础事件类\"\"\"\n",
    "    def __init__(self, event_type: str, data: Any = None):\n",
    "        self.event_type = event_type\n",
    "        self.data = data\n",
    "\n",
    "    def __repr__(self):\n",
    "        return f\"Event(type={self.event_type}, data={self.data})\"\n",
    "\n",
    "\n",
    "# 2. 事件队列\n",
    "class EventQueue:\n",
    "    \"\"\"事件队列\"\"\"\n",
    "    def __init__(self):\n",
    "        self.queue = queue.Queue()  # 线程安全队列\n",
    "\n",
    "    def publish(self, event: Event):\n",
    "        \"\"\"将事件放入队列\"\"\"\n",
    "        self.queue.put(event)\n",
    "\n",
    "    def consume(self) -> Event:\n",
    "        \"\"\"从队列中取出事件\"\"\"\n",
    "        return self.queue.get()\n",
    "\n",
    "\n",
    "# 3. 事件处理器\n",
    "class EventHandler:\n",
    "    \"\"\"事件处理器\"\"\"\n",
    "    def __init__(self):\n",
    "        self.handlers = {}  # 存储事件类型与处理函数的映射\n",
    "\n",
    "    def register_handler(self, event_type: str, handler: Callable[[Event], None]):\n",
    "        \"\"\"注册事件处理函数\"\"\"\n",
    "        self.handlers[event_type] = handler\n",
    "\n",
    "    def handle_event(self, event: Event):\n",
    "        \"\"\"处理事件\"\"\"\n",
    "        handler = self.handlers.get(event.event_type)\n",
    "        if handler:\n",
    "            handler(event)\n",
    "        else:\n",
    "            print(f\"No handler for event type: {event.event_type}\")\n",
    "\n",
    "\n",
    "# 4. 事件生产者与消费者\n",
    "def producer(event_queue: EventQueue, event_types: list[str], interval: float):\n",
    "    \"\"\"事件生产者\"\"\"\n",
    "    for i in range(10):\n",
    "        event_type = event_types[i % len(event_types)]\n",
    "        event = Event(event_type=event_type, data={\"count\": i})\n",
    "        print(f\"[Producer] Generated: {event}\")\n",
    "        event_queue.publish(event)\n",
    "        time.sleep(interval)\n",
    "\n",
    "\n",
    "def consumer(event_queue: EventQueue, event_handler: EventHandler):\n",
    "    \"\"\"事件消费者\"\"\"\n",
    "    while True:\n",
    "        event = event_queue.consume()\n",
    "        print(f\"[Consumer] Processing: {event}\")\n",
    "        event_handler.handle_event(event)\n",
    "\n",
    "\n",
    "# 主程序\n",
    "if __name__ == \"__main__\":\n",
    "    # 创建事件队列和处理器\n",
    "    event_queue = EventQueue()\n",
    "    event_handler = EventHandler()\n",
    "\n",
    "    # 注册事件处理函数\n",
    "    def handle_event_type_a(event: Event):\n",
    "        print(f\"Handled Event A with data: {event.data}\")\n",
    "\n",
    "    def handle_event_type_b(event: Event):\n",
    "        print(f\"Handled Event B with data: {event.data}\")\n",
    "\n",
    "    event_handler.register_handler(\"EventA\", handle_event_type_a)\n",
    "    event_handler.register_handler(\"EventB\", handle_event_type_b)\n",
    "\n",
    "    # 创建生产者线程\n",
    "    producer_thread = threading.Thread(\n",
    "        target=producer, \n",
    "        args=(event_queue, [\"EventA\", \"EventB\"], 1),\n",
    "        daemon=True\n",
    "    )\n",
    "\n",
    "    # 创建消费者线程\n",
    "    consumer_thread = threading.Thread(\n",
    "        target=consumer,\n",
    "        args=(event_queue, event_handler),\n",
    "        daemon=True\n",
    "    )\n",
    "\n",
    "    # 启动线程\n",
    "    producer_thread.start()\n",
    "    consumer_thread.start()\n",
    "\n",
    "    # 主线程等待一段时间后退出\n",
    "    time.sleep(12)\n",
    "    print(\"Main thread exiting...\")\n"
   ]
  },
  {
   "cell_type": "code",
   "execution_count": 5,
   "metadata": {},
   "outputs": [
    {
     "name": "stdout",
     "output_type": "stream",
     "text": [
      "0\n",
      "1\n",
      "2\n",
      "3\n",
      "4\n",
      "5\n",
      "6\n",
      "7\n",
      "8\n",
      "9\n"
     ]
    }
   ],
   "source": [
    "import time\n",
    "\n",
    "def gen():\n",
    "    for i in range(10):\n",
    "        time.sleep(1)\n",
    "        yield i\n",
    "        \n",
    "generator = gen()\n",
    "for i in generator:\n",
    "    print(i)"
   ]
  },
  {
   "cell_type": "code",
   "execution_count": 2,
   "metadata": {},
   "outputs": [
    {
     "name": "stdout",
     "output_type": "stream",
     "text": [
      "{'message': 'Workflow executed successfully'}\n"
     ]
    }
   ],
   "source": [
    "import requests\n",
    "\n",
    "res = requests.post(\"http://localhost:5000/api/workflow/1\")\n",
    "\n",
    "print(res.json())"
   ]
  },
  {
   "cell_type": "code",
   "execution_count": 6,
   "metadata": {},
   "outputs": [
    {
     "ename": "JSONDecodeError",
     "evalue": "Expecting value: line 1 column 1 (char 0)",
     "output_type": "error",
     "traceback": [
      "\u001b[1;31m---------------------------------------------------------------------------\u001b[0m",
      "\u001b[1;31mJSONDecodeError\u001b[0m                           Traceback (most recent call last)",
      "File \u001b[1;32md:\\Python\\Python312\\Lib\\site-packages\\requests\\models.py:971\u001b[0m, in \u001b[0;36mResponse.json\u001b[1;34m(self, **kwargs)\u001b[0m\n\u001b[0;32m    970\u001b[0m \u001b[38;5;28;01mtry\u001b[39;00m:\n\u001b[1;32m--> 971\u001b[0m     \u001b[38;5;28;01mreturn\u001b[39;00m \u001b[43mcomplexjson\u001b[49m\u001b[38;5;241;43m.\u001b[39;49m\u001b[43mloads\u001b[49m\u001b[43m(\u001b[49m\u001b[38;5;28;43mself\u001b[39;49m\u001b[38;5;241;43m.\u001b[39;49m\u001b[43mtext\u001b[49m\u001b[43m,\u001b[49m\u001b[43m \u001b[49m\u001b[38;5;241;43m*\u001b[39;49m\u001b[38;5;241;43m*\u001b[39;49m\u001b[43mkwargs\u001b[49m\u001b[43m)\u001b[49m\n\u001b[0;32m    972\u001b[0m \u001b[38;5;28;01mexcept\u001b[39;00m JSONDecodeError \u001b[38;5;28;01mas\u001b[39;00m e:\n\u001b[0;32m    973\u001b[0m     \u001b[38;5;66;03m# Catch JSON-related errors and raise as requests.JSONDecodeError\u001b[39;00m\n\u001b[0;32m    974\u001b[0m     \u001b[38;5;66;03m# This aliases json.JSONDecodeError and simplejson.JSONDecodeError\u001b[39;00m\n",
      "File \u001b[1;32md:\\Python\\Python312\\Lib\\json\\__init__.py:346\u001b[0m, in \u001b[0;36mloads\u001b[1;34m(s, cls, object_hook, parse_float, parse_int, parse_constant, object_pairs_hook, **kw)\u001b[0m\n\u001b[0;32m    343\u001b[0m \u001b[38;5;28;01mif\u001b[39;00m (\u001b[38;5;28mcls\u001b[39m \u001b[38;5;129;01mis\u001b[39;00m \u001b[38;5;28;01mNone\u001b[39;00m \u001b[38;5;129;01mand\u001b[39;00m object_hook \u001b[38;5;129;01mis\u001b[39;00m \u001b[38;5;28;01mNone\u001b[39;00m \u001b[38;5;129;01mand\u001b[39;00m\n\u001b[0;32m    344\u001b[0m         parse_int \u001b[38;5;129;01mis\u001b[39;00m \u001b[38;5;28;01mNone\u001b[39;00m \u001b[38;5;129;01mand\u001b[39;00m parse_float \u001b[38;5;129;01mis\u001b[39;00m \u001b[38;5;28;01mNone\u001b[39;00m \u001b[38;5;129;01mand\u001b[39;00m\n\u001b[0;32m    345\u001b[0m         parse_constant \u001b[38;5;129;01mis\u001b[39;00m \u001b[38;5;28;01mNone\u001b[39;00m \u001b[38;5;129;01mand\u001b[39;00m object_pairs_hook \u001b[38;5;129;01mis\u001b[39;00m \u001b[38;5;28;01mNone\u001b[39;00m \u001b[38;5;129;01mand\u001b[39;00m \u001b[38;5;129;01mnot\u001b[39;00m kw):\n\u001b[1;32m--> 346\u001b[0m     \u001b[38;5;28;01mreturn\u001b[39;00m \u001b[43m_default_decoder\u001b[49m\u001b[38;5;241;43m.\u001b[39;49m\u001b[43mdecode\u001b[49m\u001b[43m(\u001b[49m\u001b[43ms\u001b[49m\u001b[43m)\u001b[49m\n\u001b[0;32m    347\u001b[0m \u001b[38;5;28;01mif\u001b[39;00m \u001b[38;5;28mcls\u001b[39m \u001b[38;5;129;01mis\u001b[39;00m \u001b[38;5;28;01mNone\u001b[39;00m:\n",
      "File \u001b[1;32md:\\Python\\Python312\\Lib\\json\\decoder.py:337\u001b[0m, in \u001b[0;36mJSONDecoder.decode\u001b[1;34m(self, s, _w)\u001b[0m\n\u001b[0;32m    333\u001b[0m \u001b[38;5;250m\u001b[39m\u001b[38;5;124;03m\"\"\"Return the Python representation of ``s`` (a ``str`` instance\u001b[39;00m\n\u001b[0;32m    334\u001b[0m \u001b[38;5;124;03mcontaining a JSON document).\u001b[39;00m\n\u001b[0;32m    335\u001b[0m \n\u001b[0;32m    336\u001b[0m \u001b[38;5;124;03m\"\"\"\u001b[39;00m\n\u001b[1;32m--> 337\u001b[0m obj, end \u001b[38;5;241m=\u001b[39m \u001b[38;5;28;43mself\u001b[39;49m\u001b[38;5;241;43m.\u001b[39;49m\u001b[43mraw_decode\u001b[49m\u001b[43m(\u001b[49m\u001b[43ms\u001b[49m\u001b[43m,\u001b[49m\u001b[43m \u001b[49m\u001b[43midx\u001b[49m\u001b[38;5;241;43m=\u001b[39;49m\u001b[43m_w\u001b[49m\u001b[43m(\u001b[49m\u001b[43ms\u001b[49m\u001b[43m,\u001b[49m\u001b[43m \u001b[49m\u001b[38;5;241;43m0\u001b[39;49m\u001b[43m)\u001b[49m\u001b[38;5;241;43m.\u001b[39;49m\u001b[43mend\u001b[49m\u001b[43m(\u001b[49m\u001b[43m)\u001b[49m\u001b[43m)\u001b[49m\n\u001b[0;32m    338\u001b[0m end \u001b[38;5;241m=\u001b[39m _w(s, end)\u001b[38;5;241m.\u001b[39mend()\n",
      "File \u001b[1;32md:\\Python\\Python312\\Lib\\json\\decoder.py:355\u001b[0m, in \u001b[0;36mJSONDecoder.raw_decode\u001b[1;34m(self, s, idx)\u001b[0m\n\u001b[0;32m    354\u001b[0m \u001b[38;5;28;01mexcept\u001b[39;00m \u001b[38;5;167;01mStopIteration\u001b[39;00m \u001b[38;5;28;01mas\u001b[39;00m err:\n\u001b[1;32m--> 355\u001b[0m     \u001b[38;5;28;01mraise\u001b[39;00m JSONDecodeError(\u001b[38;5;124m\"\u001b[39m\u001b[38;5;124mExpecting value\u001b[39m\u001b[38;5;124m\"\u001b[39m, s, err\u001b[38;5;241m.\u001b[39mvalue) \u001b[38;5;28;01mfrom\u001b[39;00m \u001b[38;5;28;01mNone\u001b[39;00m\n\u001b[0;32m    356\u001b[0m \u001b[38;5;28;01mreturn\u001b[39;00m obj, end\n",
      "\u001b[1;31mJSONDecodeError\u001b[0m: Expecting value: line 1 column 1 (char 0)",
      "\nDuring handling of the above exception, another exception occurred:\n",
      "\u001b[1;31mJSONDecodeError\u001b[0m                           Traceback (most recent call last)",
      "Cell \u001b[1;32mIn[6], line 5\u001b[0m\n\u001b[0;32m      1\u001b[0m \u001b[38;5;28;01mimport\u001b[39;00m \u001b[38;5;21;01mrequests\u001b[39;00m\n\u001b[0;32m      3\u001b[0m res \u001b[38;5;241m=\u001b[39m requests\u001b[38;5;241m.\u001b[39mget(\u001b[38;5;124m\"\u001b[39m\u001b[38;5;124mhttp://localhost:5000/api/graph/1\u001b[39m\u001b[38;5;124m\"\u001b[39m)\n\u001b[1;32m----> 5\u001b[0m \u001b[38;5;28mprint\u001b[39m(\u001b[43mres\u001b[49m\u001b[38;5;241;43m.\u001b[39;49m\u001b[43mjson\u001b[49m\u001b[43m(\u001b[49m\u001b[43m)\u001b[49m)\n",
      "File \u001b[1;32md:\\Python\\Python312\\Lib\\site-packages\\requests\\models.py:975\u001b[0m, in \u001b[0;36mResponse.json\u001b[1;34m(self, **kwargs)\u001b[0m\n\u001b[0;32m    971\u001b[0m     \u001b[38;5;28;01mreturn\u001b[39;00m complexjson\u001b[38;5;241m.\u001b[39mloads(\u001b[38;5;28mself\u001b[39m\u001b[38;5;241m.\u001b[39mtext, \u001b[38;5;241m*\u001b[39m\u001b[38;5;241m*\u001b[39mkwargs)\n\u001b[0;32m    972\u001b[0m \u001b[38;5;28;01mexcept\u001b[39;00m JSONDecodeError \u001b[38;5;28;01mas\u001b[39;00m e:\n\u001b[0;32m    973\u001b[0m     \u001b[38;5;66;03m# Catch JSON-related errors and raise as requests.JSONDecodeError\u001b[39;00m\n\u001b[0;32m    974\u001b[0m     \u001b[38;5;66;03m# This aliases json.JSONDecodeError and simplejson.JSONDecodeError\u001b[39;00m\n\u001b[1;32m--> 975\u001b[0m     \u001b[38;5;28;01mraise\u001b[39;00m RequestsJSONDecodeError(e\u001b[38;5;241m.\u001b[39mmsg, e\u001b[38;5;241m.\u001b[39mdoc, e\u001b[38;5;241m.\u001b[39mpos)\n",
      "\u001b[1;31mJSONDecodeError\u001b[0m: Expecting value: line 1 column 1 (char 0)"
     ]
    }
   ],
   "source": [
    "import requests\n",
    "\n",
    "res = requests.get(\"http://localhost:5000/api/graph/1\")\n",
    "\n",
    "print(res.json())"
   ]
  }
 ],
 "metadata": {
  "kernelspec": {
   "display_name": "Python 3",
   "language": "python",
   "name": "python3"
  },
  "language_info": {
   "codemirror_mode": {
    "name": "ipython",
    "version": 3
   },
   "file_extension": ".py",
   "mimetype": "text/x-python",
   "name": "python",
   "nbconvert_exporter": "python",
   "pygments_lexer": "ipython3",
   "version": "3.12.2"
  }
 },
 "nbformat": 4,
 "nbformat_minor": 2
}
